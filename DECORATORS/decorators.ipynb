{
 "cells": [
  {
   "cell_type": "markdown",
   "metadata": {},
   "source": [
    "decorators"
   ]
  },
  {
   "cell_type": "code",
   "execution_count": 1,
   "metadata": {},
   "outputs": [],
   "source": [
    "a = {\n",
    "    \"name\": \"koustubh atram\",\n",
    "    \"age\": 20,\n",
    "    \"salary\": 700000\n",
    "}"
   ]
  },
  {
   "cell_type": "code",
   "execution_count": 2,
   "metadata": {},
   "outputs": [
    {
     "data": {
      "text/plain": [
       "dict"
      ]
     },
     "execution_count": 2,
     "metadata": {},
     "output_type": "execute_result"
    }
   ],
   "source": [
    "type(a)"
   ]
  },
  {
   "cell_type": "code",
   "execution_count": 3,
   "metadata": {},
   "outputs": [
    {
     "data": {
      "text/plain": [
       "dict_keys(['name', 'age', 'salary'])"
      ]
     },
     "execution_count": 3,
     "metadata": {},
     "output_type": "execute_result"
    }
   ],
   "source": [
    "a.keys()"
   ]
  },
  {
   "cell_type": "code",
   "execution_count": 4,
   "metadata": {},
   "outputs": [
    {
     "data": {
      "text/plain": [
       "dict_values(['koustubh atram', 20, 700000])"
      ]
     },
     "execution_count": 4,
     "metadata": {},
     "output_type": "execute_result"
    }
   ],
   "source": [
    "a.values()"
   ]
  },
  {
   "cell_type": "code",
   "execution_count": 5,
   "metadata": {},
   "outputs": [
    {
     "data": {
      "text/plain": [
       "dict_items([('name', 'koustubh atram'), ('age', 20), ('salary', 700000)])"
      ]
     },
     "execution_count": 5,
     "metadata": {},
     "output_type": "execute_result"
    }
   ],
   "source": [
    "a.items()"
   ]
  },
  {
   "cell_type": "code",
   "execution_count": 6,
   "metadata": {},
   "outputs": [
    {
     "name": "stdout",
     "output_type": "stream",
     "text": [
      "name : koustubh atram\n",
      "age : 20\n",
      "salary : 700000\n"
     ]
    }
   ],
   "source": [
    "for key, value in a.items():\n",
    "    print(f\"{key} : {value}\")"
   ]
  },
  {
   "cell_type": "code",
   "execution_count": 7,
   "metadata": {},
   "outputs": [],
   "source": [
    "def function(**kwargs):\n",
    "    print(kwargs)\n",
    "    print(type(kwargs))\n",
    "    for key, value in kwargs.items():\n",
    "        print(f\"{key} : {value}\")"
   ]
  },
  {
   "cell_type": "code",
   "execution_count": 8,
   "metadata": {},
   "outputs": [
    {
     "name": "stdout",
     "output_type": "stream",
     "text": [
      "{'name': 'krushna', 'age': 21}\n",
      "<class 'dict'>\n",
      "name : krushna\n",
      "age : 21\n"
     ]
    }
   ],
   "source": [
    "function(name=\"krushna\",age=21)"
   ]
  },
  {
   "cell_type": "code",
   "execution_count": 9,
   "metadata": {},
   "outputs": [
    {
     "name": "stdout",
     "output_type": "stream",
     "text": [
      "{'name': 'atharva', 'age': 21, 'course': 'mba', 'fees': 200000}\n",
      "<class 'dict'>\n",
      "name : atharva\n",
      "age : 21\n",
      "course : mba\n",
      "fees : 200000\n"
     ]
    }
   ],
   "source": [
    "function(name=\"atharva\",age=21,course=\"mba\",fees=200000)"
   ]
  },
  {
   "cell_type": "code",
   "execution_count": 10,
   "metadata": {},
   "outputs": [],
   "source": [
    "menu = {\n",
    "    \"noodles\": 90,\n",
    "    \"manchurian\": 100,\n",
    "    \"soup\": 60,\n",
    "    \"triple rice\": 180,\n",
    "    \"rolls\": 80\n",
    "}"
   ]
  },
  {
   "cell_type": "code",
   "execution_count": 11,
   "metadata": {},
   "outputs": [
    {
     "data": {
      "text/plain": [
       "80"
      ]
     },
     "execution_count": 11,
     "metadata": {},
     "output_type": "execute_result"
    }
   ],
   "source": [
    "menu.get(\"rolls\")"
   ]
  },
  {
   "cell_type": "code",
   "execution_count": 13,
   "metadata": {},
   "outputs": [
    {
     "data": {
      "text/plain": [
       "180"
      ]
     },
     "execution_count": 13,
     "metadata": {},
     "output_type": "execute_result"
    }
   ],
   "source": [
    "menu.get(\"triple rice\")"
   ]
  },
  {
   "cell_type": "code",
   "execution_count": 15,
   "metadata": {},
   "outputs": [],
   "source": [
    "def bill(order_no, **kwargs):\n",
    "    # Print table number\n",
    "    print(f\"Table number - {order_no}\")\n",
    "    #intializing amt\n",
    "    amt = 0\n",
    "    # Apply for loop on kwargs\n",
    "    for food, qty in kwargs.items():\n",
    "        price = menu.get(food)\n",
    "        if price is not None:\n",
    "            subtotal = price*qty\n",
    "            amt += subtotal\n",
    "        print(f\"Food item - {food}, qty- {qty}, price - {price} INR, subtotal - {subtotal} INR\")\n",
    "    # Show the final bill\n",
    "    print(f\"Final Bill is : {amt} INR\")\n",
    "    return amt"
   ]
  },
  {
   "cell_type": "code",
   "execution_count": 17,
   "metadata": {},
   "outputs": [
    {
     "name": "stdout",
     "output_type": "stream",
     "text": [
      "Table number - 1\n",
      "Food item - soup, qty- 2, price - 60 INR, subtotal - 120 INR\n",
      "Food item - rolls, qty- 2, price - 80 INR, subtotal - 160 INR\n",
      "Food item - manchurian, qty- 1, price - 100 INR, subtotal - 100 INR\n",
      "Final Bill is : 380 INR\n"
     ]
    }
   ],
   "source": [
    "c1 = bill(\n",
    "    order_no=1,\n",
    "    soup=2,\n",
    "    rolls=2,\n",
    "    manchurian=1,\n",
    ")"
   ]
  },
  {
   "cell_type": "code",
   "execution_count": 18,
   "metadata": {},
   "outputs": [
    {
     "data": {
      "text/plain": [
       "380"
      ]
     },
     "execution_count": 18,
     "metadata": {},
     "output_type": "execute_result"
    }
   ],
   "source": [
    "c1"
   ]
  },
  {
   "cell_type": "code",
   "execution_count": 22,
   "metadata": {},
   "outputs": [
    {
     "name": "stdout",
     "output_type": "stream",
     "text": [
      "Table number - 2\n",
      "Food item - soup, qty- 3, price - 60 INR, subtotal - 180 INR\n",
      "Food item - noodles, qty- 3, price - 90 INR, subtotal - 270 INR\n",
      "Food item - rolls, qty- 4, price - 80 INR, subtotal - 320 INR\n",
      "Final Bill is : 770 INR\n"
     ]
    }
   ],
   "source": [
    "c2 = bill(\n",
    "    order_no=2,\n",
    "    soup=3,\n",
    "    noodles=3,\n",
    "    rolls=4,\n",
    ")\n"
   ]
  },
  {
   "cell_type": "code",
   "execution_count": 23,
   "metadata": {},
   "outputs": [
    {
     "data": {
      "text/plain": [
       "770"
      ]
     },
     "execution_count": 23,
     "metadata": {},
     "output_type": "execute_result"
    }
   ],
   "source": [
    "c2"
   ]
  },
  {
   "cell_type": "code",
   "execution_count": null,
   "metadata": {},
   "outputs": [],
   "source": []
  }
 ],
 "metadata": {
  "kernelspec": {
   "display_name": "venv",
   "language": "python",
   "name": "python3"
  },
  "language_info": {
   "codemirror_mode": {
    "name": "ipython",
    "version": 3
   },
   "file_extension": ".py",
   "mimetype": "text/x-python",
   "name": "python",
   "nbconvert_exporter": "python",
   "pygments_lexer": "ipython3",
   "version": "3.12.4"
  }
 },
 "nbformat": 4,
 "nbformat_minor": 2
}
